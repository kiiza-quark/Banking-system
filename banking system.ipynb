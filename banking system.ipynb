{
 "cells": [
  {
   "cell_type": "markdown",
   "metadata": {},
   "source": [
    "1. Using classes, Create a basic banking application with the following features:\n",
    "\n",
    "    1. Create a class called `BankAccount` with the following attributes:\n",
    "\n",
    "        1. `account_number` - a string\n",
    "        2. `balance` - a float\n",
    "        3. `owner` - a string\n",
    "        4. `type` - a string\n",
    "\n",
    "    2. Create a class called `Bank` with the following attributes:\n",
    "\n",
    "        1. `name` - a string\n",
    "        2. `accounts` - a list of `BankAccount` objects\n",
    "\n",
    "    3. Create a class called `Customer` with the following attributes:\n",
    "\n",
    "        1. `name` - a string\n",
    "        2. `accounts` - a list of `BankAccount` objects\n",
    "\n",
    "    4. Create a class called `Transactions` with the following attributes:\n",
    "    \n",
    "            1. `account` - a `BankAccount` object\n",
    "            2. `amount` - a float\n",
    "            3. `type` - a string\n",
    "\n",
    "\n",
    "    The application should have the following functionality:\n",
    "\n",
    "    1. Create a new `Bank` object\n",
    "    2. Create a new `Customer` object\n",
    "    3. Create a new `BankAccount` object\n",
    "    4. Add the `BankAccount` object to the `Bank` object\n",
    "    5. Add the `BankAccount` object to the `Customer` object\n",
    "    6. Print the `Bank` object\n",
    "    7. Print the `Customer` object\n",
    "    8. Print the `BankAccount` object\n",
    "    9. Create a new `Transaction` object\n",
    "    10. Add the `Transaction` object to the `BankAccount` object\n",
    "    \n",
    "\n",
    "    \n",
    "\n"
   ]
  },
  {
   "cell_type": "code",
   "execution_count": 3,
   "metadata": {},
   "outputs": [
    {
     "name": "stdout",
     "output_type": "stream",
     "text": [
      "BANK NAME: DFCU\n",
      "ACCOUNTS: \n"
     ]
    },
    {
     "data": {
      "text/plain": [
       "BANK NAME: DFCU\n",
       "ACCOUNTS: [ACCOUNT HOLDER: KIZZAH\n",
       "ACCOUNT NUMBER: 2654\n",
       "ACCOUNT TYPE: SAVINGS\n",
       "BALANCE: 2763]"
      ]
     },
     "execution_count": 3,
     "metadata": {},
     "output_type": "execute_result"
    }
   ],
   "source": [
    "import datetime\n",
    "import random\n",
    "\n",
    "class BankAccount():\n",
    "    transactions = []\n",
    "    account_numbers = 2653\n",
    "    def __init__(self, balance: float, owner: str, type: str) -> None:\n",
    "        self.account_number = BankAccount.account_numbers + 1\n",
    "        self.balance = balance\n",
    "        self.owner = owner\n",
    "        self.type = type\n",
    "        \n",
    "    def __repr__(self) -> str:\n",
    "        return f\"ACCOUNT HOLDER: {self.owner.upper()}\\nACCOUNT NUMBER: {self.account_number}\\nACCOUNT TYPE: {self.type}\\nBALANCE: {self.balance}\"\n",
    "        \n",
    "    def print_account(self):\n",
    "        print(f\"ACCOUNT HOLDER: {self.owner.upper()}\\nACCOUNT NUMBER: {self.account_number}\\nACCOUNT TYPE: {self.type}\\nBALANCE: {self.balance}\"\n",
    "        )\n",
    "\n",
    "\n",
    "class Bank:\n",
    "    def __init__(self, name:str , accounts:list) -> None:\n",
    "        self.name = name\n",
    "        self.accounts = accounts\n",
    "    \n",
    "    def __repr__(self) -> str:\n",
    "        return f\"BANK NAME: {self.name}\\nACCOUNTS: {self.accounts}\"\n",
    "\n",
    "    def add_account(self, account: BankAccount) -> None:\n",
    "        self.accounts.append(account)\n",
    "\n",
    "    def show_bank(self):\n",
    "        print(f\"BANK NAME: {self.name}\\nACCOUNTS: {'   '.join(self.accounts)}\")\n",
    "\n",
    "\n",
    "class Customer:\n",
    "    def __init__(self, name: str, accounts: list) -> None:\n",
    "        self.name = name\n",
    "        self.accounts = accounts\n",
    "\n",
    "    def print_customer(self):\n",
    "        print(f\"NAME: {self.name}\\nACCOUNTS: {self.accounts}\")\n",
    "        \n",
    "\n",
    "class Transaction(BankAccount, Customer):\n",
    "    def __init__(self, account: BankAccount, amount: float, type: str) -> None:\n",
    "        self.account = account\n",
    "        self.amount = amount\n",
    "        self.type = type\n",
    "\n",
    "    def make_transaction(self, amount):\n",
    "        BankAccount.transactions.append(Transaction)\n",
    "        print(f\"Transaction made by {self.name} at {datetime.datetime.now()}\")\n",
    "\n",
    "\n",
    "dfcu = Bank(\"DFCU\", [])\n",
    "dfcu.show_bank()\n",
    "\n",
    "account = BankAccount(owner=\"KIZZAH\",  balance=2763, type=\"SAVINGS\")\n",
    "dfcu.add_account(account)\n",
    "dfcu\n"
   ]
  }
 ],
 "metadata": {
  "kernelspec": {
   "display_name": "Python 3.10.7 64-bit",
   "language": "python",
   "name": "python3"
  },
  "language_info": {
   "codemirror_mode": {
    "name": "ipython",
    "version": 3
   },
   "file_extension": ".py",
   "mimetype": "text/x-python",
   "name": "python",
   "nbconvert_exporter": "python",
   "pygments_lexer": "ipython3",
   "version": "3.10.7"
  },
  "orig_nbformat": 4,
  "vscode": {
   "interpreter": {
    "hash": "df95319d8ce4e1d89f5365ae10992bc1f65da593082b1d264e8f529830ec2f02"
   }
  }
 },
 "nbformat": 4,
 "nbformat_minor": 2
}
